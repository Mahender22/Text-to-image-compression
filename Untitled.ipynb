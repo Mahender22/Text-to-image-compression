{
 "cells": [
  {
   "cell_type": "code",
   "execution_count": 3,
   "id": "48ecce76",
   "metadata": {},
   "outputs": [
    {
     "name": "stdout",
     "output_type": "stream",
     "text": [
      "Copied: C:\\Users\\Mahender\\Documents\\MS docs\\Final docs\\Rowan University\\sem4\\ADV topics in DS LLM\\Project\\Text-to-image-for-compression\\Data\\dataset\\9\\9\\9999.png -> C:\\Users\\Mahender\\Documents\\MS docs\\Final docs\\Rowan University\\sem4\\ADV topics in DS LLM\\Project\\Text-to-image-for-compression\\Data\\Data-all-images\\9_9999.png\n"
     ]
    }
   ],
   "source": [
    "import os\n",
    "import shutil\n",
    "\n",
    "def copy_and_rename_images(src_folder, dest_folder):\n",
    "    # Create the destination folder if it doesn't exist\n",
    "    if not os.path.exists(dest_folder):\n",
    "        os.makedirs(dest_folder)\n",
    "    \n",
    "    # Walk through all files in the source folder\n",
    "    for root, dirs, files in os.walk(src_folder):\n",
    "        for file in files:\n",
    "            # Check if the file is an image (you can add more extensions as needed)\n",
    "            if file.lower().endswith(('.png', '.jpg', '.jpeg', '.gif', '.bmp', '.tiff')):\n",
    "                # Get the parent folder name\n",
    "                parent_folder = os.path.basename(root)\n",
    "                \n",
    "                # Construct the new file name\n",
    "                new_filename = f\"{parent_folder}_{file}\"\n",
    "                \n",
    "                # Define the source and destination paths\n",
    "                src_path = os.path.join(root, file)\n",
    "                dest_path = os.path.join(dest_folder, new_filename)\n",
    "                \n",
    "                # Copy the file with the new name\n",
    "                shutil.copy(src_path, dest_path)\n",
    "    print(f\"Copied: {src_path} -> {dest_path}\")\n",
    "\n",
    "# Example usage\n",
    "source_folder = r\"C:\\Users\\Mahender\\Documents\\MS docs\\Final docs\\Rowan University\\sem4\\ADV topics in DS LLM\\Project\\Text-to-image-for-compression\\Data\\dataset\"  \n",
    "destination_folder = r\"C:\\Users\\Mahender\\Documents\\MS docs\\Final docs\\Rowan University\\sem4\\ADV topics in DS LLM\\Project\\Text-to-image-for-compression\\Data\\Data-all-images\"  \n",
    "\n",
    "copy_and_rename_images(source_folder, destination_folder)"
   ]
  },
  {
   "cell_type": "code",
   "execution_count": null,
   "id": "733d6a61",
   "metadata": {},
   "outputs": [],
   "source": []
  }
 ],
 "metadata": {
  "kernelspec": {
   "display_name": "Python 3 (ipykernel)",
   "language": "python",
   "name": "python3"
  },
  "language_info": {
   "codemirror_mode": {
    "name": "ipython",
    "version": 3
   },
   "file_extension": ".py",
   "mimetype": "text/x-python",
   "name": "python",
   "nbconvert_exporter": "python",
   "pygments_lexer": "ipython3",
   "version": "3.10.1"
  }
 },
 "nbformat": 4,
 "nbformat_minor": 5
}
